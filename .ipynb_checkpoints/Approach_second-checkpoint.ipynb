{
 "cells": [
  {
   "cell_type": "code",
   "execution_count": 1,
   "metadata": {},
   "outputs": [],
   "source": [
    "import pandas as pd\n",
    "import numpy as np\n",
    "import matplotlib.pyplot as plt\n",
    "%matplotlib inline"
   ]
  },
  {
   "cell_type": "code",
   "execution_count": 2,
   "metadata": {},
   "outputs": [
    {
     "data": {
      "text/html": [
       "<div>\n",
       "<style scoped>\n",
       "    .dataframe tbody tr th:only-of-type {\n",
       "        vertical-align: middle;\n",
       "    }\n",
       "\n",
       "    .dataframe tbody tr th {\n",
       "        vertical-align: top;\n",
       "    }\n",
       "\n",
       "    .dataframe thead th {\n",
       "        text-align: right;\n",
       "    }\n",
       "</style>\n",
       "<table border=\"1\" class=\"dataframe\">\n",
       "  <thead>\n",
       "    <tr style=\"text-align: right;\">\n",
       "      <th></th>\n",
       "      <th>Application ID</th>\n",
       "      <th>Current City</th>\n",
       "      <th>Other skills</th>\n",
       "      <th>Institute</th>\n",
       "      <th>Degree</th>\n",
       "      <th>Stream</th>\n",
       "      <th>Current Year Of Graduation</th>\n",
       "      <th>Performance_PG</th>\n",
       "      <th>Performance_UG</th>\n",
       "      <th>Performance_12</th>\n",
       "      <th>Performance_10</th>\n",
       "    </tr>\n",
       "  </thead>\n",
       "  <tbody>\n",
       "    <tr>\n",
       "      <th>0</th>\n",
       "      <td>MS0001</td>\n",
       "      <td>Pune</td>\n",
       "      <td>Machine Learning, Python</td>\n",
       "      <td>Don Bosco Institute of Technology</td>\n",
       "      <td>Bachelor of Engineering (B.E)</td>\n",
       "      <td>Mechanical Engineering</td>\n",
       "      <td>2018</td>\n",
       "      <td>NaN</td>\n",
       "      <td>8.13/10</td>\n",
       "      <td>NaN</td>\n",
       "      <td>NaN</td>\n",
       "    </tr>\n",
       "  </tbody>\n",
       "</table>\n",
       "</div>"
      ],
      "text/plain": [
       "  Application ID Current City              Other skills  \\\n",
       "0         MS0001         Pune  Machine Learning, Python   \n",
       "\n",
       "                           Institute                         Degree  \\\n",
       "0  Don Bosco Institute of Technology  Bachelor of Engineering (B.E)   \n",
       "\n",
       "                   Stream  Current Year Of Graduation Performance_PG  \\\n",
       "0  Mechanical Engineering                        2018            NaN   \n",
       "\n",
       "  Performance_UG Performance_12 Performance_10  \n",
       "0        8.13/10            NaN            NaN  "
      ]
     },
     "execution_count": 2,
     "metadata": {},
     "output_type": "execute_result"
    }
   ],
   "source": [
    "df = pd.read_csv('sample_data_v4.csv')\n",
    "pd.set_option('display.max_rows', 5000)\n",
    "df.head(1)"
   ]
  },
  {
   "cell_type": "code",
   "execution_count": 3,
   "metadata": {},
   "outputs": [
    {
     "data": {
      "text/plain": [
       "Application ID                   0\n",
       "Current City                     0\n",
       "Other skills                    38\n",
       "Institute                       13\n",
       "Degree                          85\n",
       "Stream                          97\n",
       "Current Year Of Graduation       0\n",
       "Performance_PG                1817\n",
       "Performance_UG                 334\n",
       "Performance_12                 780\n",
       "Performance_10                 880\n",
       "dtype: int64"
      ]
     },
     "execution_count": 3,
     "metadata": {},
     "output_type": "execute_result"
    }
   ],
   "source": [
    "df.isna().sum()"
   ]
  },
  {
   "cell_type": "code",
   "execution_count": 4,
   "metadata": {},
   "outputs": [],
   "source": [
    "#Remove space from the coulmn\n",
    "df.columns =df.columns.str.replace(' ','_')\n",
    "#df.head(1)"
   ]
  },
  {
   "cell_type": "code",
   "execution_count": 5,
   "metadata": {},
   "outputs": [
    {
     "name": "stdout",
     "output_type": "stream",
     "text": [
      "Other_skills: 0.0175% missing values\n",
      "Institute: 0.006% missing values\n",
      "Degree: 0.0392% missing values\n",
      "Stream: 0.0447% missing values\n",
      "Performance_PG: 0.8381% missing values\n",
      "Performance_UG: 0.1541% missing values\n",
      "Performance_12: 0.3598% missing values\n",
      "Performance_10: 0.4059% missing values\n"
     ]
    }
   ],
   "source": [
    "features_nan=[feature for feature in df.columns if df[feature].isnull().sum()>1 and df[feature].dtypes=='O']\n",
    "\n",
    "for feature in features_nan:\n",
    "    print(\"{}: {}% missing values\".format(feature,np.round(df[feature].isnull().mean(),4)))"
   ]
  },
  {
   "cell_type": "code",
   "execution_count": 6,
   "metadata": {},
   "outputs": [],
   "source": [
    "pg=df['Performance_10'].str.split(\"/\" ,expand=True)\n",
    "df['Performance_10']=pg[0]\n",
    "\n",
    "pg=df['Performance_12'].str.split(\"/\" ,expand=True)\n",
    "df['Performance_12']=pg[0]\n",
    "\n",
    "pg=df['Performance_UG'].str.split(\"/\" ,expand=True)\n",
    "df['Performance_UG']=pg[0]\n",
    "\n",
    "pg=df['Performance_PG'].str.split(\"/\" ,expand=True)\n",
    "df['Performance_PG']=pg[0]\n",
    "\n",
    "df['Performance_10'] = df['Performance_10'].astype(float)\n",
    "df['Performance_12'] = df['Performance_12'].astype(float)\n",
    "\n",
    "df['Performance_10'].fillna((df['Performance_10'].mean()), inplace=True)\n",
    "df['Performance_12'].fillna((df['Performance_12'].mean()), inplace=True)\n",
    "df['Performance_UG'].fillna(0, inplace=True)\n",
    "df['Performance_PG'].fillna(0, inplace=True)"
   ]
  },
  {
   "cell_type": "code",
   "execution_count": 7,
   "metadata": {
    "scrolled": false
   },
   "outputs": [],
   "source": [
    "#df[\"Current_City\"].value_counts()"
   ]
  },
  {
   "cell_type": "code",
   "execution_count": 8,
   "metadata": {},
   "outputs": [],
   "source": [
    "#We have some miss entries in city names\n",
    "#So we convert Mangaluru to Mangalore, Banglore to Bangalore, Vasai-Virar to Virar\n",
    "df.Current_City.replace(['Mangaluru'],['Mangalore'] , inplace=True)\n",
    "df.Current_City.replace(['Banglore'],['Bangalore'] , inplace=True)\n",
    "df.Current_City.replace(['Vasai-Virar'],['Virar'] , inplace=True)"
   ]
  },
  {
   "cell_type": "markdown",
   "metadata": {},
   "source": [
    "## As Internship is WFH I am assuming city will not be a barrior"
   ]
  },
  {
   "cell_type": "code",
   "execution_count": 9,
   "metadata": {},
   "outputs": [
    {
     "data": {
      "text/plain": [
       "array([2018, 2020, 2022, 2021,    0, 2017, 2023, 2019, 2006, 2013, 2014,\n",
       "       2024, 2016, 2007, 2015, 2011, 2010, 2012, 2005, 2009, 2004, 2008],\n",
       "      dtype=int64)"
      ]
     },
     "execution_count": 9,
     "metadata": {},
     "output_type": "execute_result"
    }
   ],
   "source": [
    "df.Current_Year_Of_Graduation.unique()"
   ]
  },
  {
   "cell_type": "code",
   "execution_count": 10,
   "metadata": {},
   "outputs": [],
   "source": [
    "#Experience (yrs after graduation)\n",
    "df['exp'] = df.Current_Year_Of_Graduation.apply (lambda x: x if x < 1 else 2020 - x)\n",
    "df['exp'] = df.exp.apply (lambda x: x if x > 0 else 0)"
   ]
  },
  {
   "cell_type": "markdown",
   "metadata": {},
   "source": [
    "## Pivot_Table"
   ]
  },
  {
   "cell_type": "code",
   "execution_count": 11,
   "metadata": {},
   "outputs": [
    {
     "data": {
      "text/html": [
       "<div>\n",
       "<style scoped>\n",
       "    .dataframe tbody tr th:only-of-type {\n",
       "        vertical-align: middle;\n",
       "    }\n",
       "\n",
       "    .dataframe tbody tr th {\n",
       "        vertical-align: top;\n",
       "    }\n",
       "\n",
       "    .dataframe thead th {\n",
       "        text-align: right;\n",
       "    }\n",
       "</style>\n",
       "<table border=\"1\" class=\"dataframe\">\n",
       "  <thead>\n",
       "    <tr style=\"text-align: right;\">\n",
       "      <th></th>\n",
       "      <th>exp</th>\n",
       "    </tr>\n",
       "    <tr>\n",
       "      <th>Current_City</th>\n",
       "      <th></th>\n",
       "    </tr>\n",
       "  </thead>\n",
       "  <tbody>\n",
       "    <tr>\n",
       "      <th>Zurich</th>\n",
       "      <td>8.000000</td>\n",
       "    </tr>\n",
       "    <tr>\n",
       "      <th>Indi</th>\n",
       "      <td>5.000000</td>\n",
       "    </tr>\n",
       "    <tr>\n",
       "      <th>Nashik</th>\n",
       "      <td>4.000000</td>\n",
       "    </tr>\n",
       "    <tr>\n",
       "      <th>Akola</th>\n",
       "      <td>4.000000</td>\n",
       "    </tr>\n",
       "    <tr>\n",
       "      <th>Kannur</th>\n",
       "      <td>3.666667</td>\n",
       "    </tr>\n",
       "    <tr>\n",
       "      <th>Allahabad</th>\n",
       "      <td>3.000000</td>\n",
       "    </tr>\n",
       "    <tr>\n",
       "      <th>Gulbarga</th>\n",
       "      <td>3.000000</td>\n",
       "    </tr>\n",
       "    <tr>\n",
       "      <th>Rajapalayam</th>\n",
       "      <td>3.000000</td>\n",
       "    </tr>\n",
       "    <tr>\n",
       "      <th>Bathinda</th>\n",
       "      <td>2.500000</td>\n",
       "    </tr>\n",
       "    <tr>\n",
       "      <th>Thrissur</th>\n",
       "      <td>2.083333</td>\n",
       "    </tr>\n",
       "    <tr>\n",
       "      <th>Karjat</th>\n",
       "      <td>2.000000</td>\n",
       "    </tr>\n",
       "    <tr>\n",
       "      <th>Rosenheim</th>\n",
       "      <td>2.000000</td>\n",
       "    </tr>\n",
       "    <tr>\n",
       "      <th>Bangalore</th>\n",
       "      <td>1.787834</td>\n",
       "    </tr>\n",
       "    <tr>\n",
       "      <th>Hyderabad</th>\n",
       "      <td>1.711409</td>\n",
       "    </tr>\n",
       "    <tr>\n",
       "      <th>Vasco Da Gama</th>\n",
       "      <td>1.500000</td>\n",
       "    </tr>\n",
       "    <tr>\n",
       "      <th>Kurnool</th>\n",
       "      <td>1.500000</td>\n",
       "    </tr>\n",
       "    <tr>\n",
       "      <th>Noida</th>\n",
       "      <td>1.358974</td>\n",
       "    </tr>\n",
       "    <tr>\n",
       "      <th>Pimpri-Chinchwad</th>\n",
       "      <td>1.333333</td>\n",
       "    </tr>\n",
       "    <tr>\n",
       "      <th>Pune</th>\n",
       "      <td>1.324324</td>\n",
       "    </tr>\n",
       "    <tr>\n",
       "      <th>Navi Mumbai</th>\n",
       "      <td>1.166667</td>\n",
       "    </tr>\n",
       "    <tr>\n",
       "      <th>Kochi</th>\n",
       "      <td>1.000000</td>\n",
       "    </tr>\n",
       "    <tr>\n",
       "      <th>Ado Ekiti</th>\n",
       "      <td>1.000000</td>\n",
       "    </tr>\n",
       "    <tr>\n",
       "      <th>Mahé</th>\n",
       "      <td>1.000000</td>\n",
       "    </tr>\n",
       "    <tr>\n",
       "      <th>Bidrahalli</th>\n",
       "      <td>1.000000</td>\n",
       "    </tr>\n",
       "    <tr>\n",
       "      <th>Palghar</th>\n",
       "      <td>1.000000</td>\n",
       "    </tr>\n",
       "    <tr>\n",
       "      <th>Pathanamthitta</th>\n",
       "      <td>1.000000</td>\n",
       "    </tr>\n",
       "    <tr>\n",
       "      <th>Surat</th>\n",
       "      <td>1.000000</td>\n",
       "    </tr>\n",
       "    <tr>\n",
       "      <th>Gangtok</th>\n",
       "      <td>1.000000</td>\n",
       "    </tr>\n",
       "    <tr>\n",
       "      <th>Bilaspur</th>\n",
       "      <td>1.000000</td>\n",
       "    </tr>\n",
       "    <tr>\n",
       "      <th>Kozhikode</th>\n",
       "      <td>1.000000</td>\n",
       "    </tr>\n",
       "    <tr>\n",
       "      <th>Visakhapatnam</th>\n",
       "      <td>0.941176</td>\n",
       "    </tr>\n",
       "    <tr>\n",
       "      <th>Ghaziabad</th>\n",
       "      <td>0.875000</td>\n",
       "    </tr>\n",
       "    <tr>\n",
       "      <th>Gurgaon</th>\n",
       "      <td>0.857143</td>\n",
       "    </tr>\n",
       "    <tr>\n",
       "      <th>Tirupati</th>\n",
       "      <td>0.800000</td>\n",
       "    </tr>\n",
       "    <tr>\n",
       "      <th>Nagpur</th>\n",
       "      <td>0.764706</td>\n",
       "    </tr>\n",
       "    <tr>\n",
       "      <th>Agartala</th>\n",
       "      <td>0.750000</td>\n",
       "    </tr>\n",
       "    <tr>\n",
       "      <th>Mumbai</th>\n",
       "      <td>0.739583</td>\n",
       "    </tr>\n",
       "    <tr>\n",
       "      <th>Kolkata</th>\n",
       "      <td>0.714286</td>\n",
       "    </tr>\n",
       "    <tr>\n",
       "      <th>Kolhapur</th>\n",
       "      <td>0.666667</td>\n",
       "    </tr>\n",
       "    <tr>\n",
       "      <th>Ernakulam</th>\n",
       "      <td>0.666667</td>\n",
       "    </tr>\n",
       "    <tr>\n",
       "      <th>Bhopal</th>\n",
       "      <td>0.666667</td>\n",
       "    </tr>\n",
       "    <tr>\n",
       "      <th>Bokaro Steel City</th>\n",
       "      <td>0.666667</td>\n",
       "    </tr>\n",
       "    <tr>\n",
       "      <th>Greater Noida</th>\n",
       "      <td>0.555556</td>\n",
       "    </tr>\n",
       "    <tr>\n",
       "      <th>Belgaum</th>\n",
       "      <td>0.500000</td>\n",
       "    </tr>\n",
       "    <tr>\n",
       "      <th>Rourkela</th>\n",
       "      <td>0.500000</td>\n",
       "    </tr>\n",
       "    <tr>\n",
       "      <th>Dhanbad</th>\n",
       "      <td>0.400000</td>\n",
       "    </tr>\n",
       "    <tr>\n",
       "      <th>Chennai</th>\n",
       "      <td>0.389610</td>\n",
       "    </tr>\n",
       "    <tr>\n",
       "      <th>Delhi</th>\n",
       "      <td>0.355191</td>\n",
       "    </tr>\n",
       "    <tr>\n",
       "      <th>Lucknow</th>\n",
       "      <td>0.352941</td>\n",
       "    </tr>\n",
       "    <tr>\n",
       "      <th>Durgapur</th>\n",
       "      <td>0.333333</td>\n",
       "    </tr>\n",
       "    <tr>\n",
       "      <th>Nellore</th>\n",
       "      <td>0.333333</td>\n",
       "    </tr>\n",
       "    <tr>\n",
       "      <th>Ahmedabad</th>\n",
       "      <td>0.294118</td>\n",
       "    </tr>\n",
       "    <tr>\n",
       "      <th>Coimbatore</th>\n",
       "      <td>0.272727</td>\n",
       "    </tr>\n",
       "    <tr>\n",
       "      <th>Indore</th>\n",
       "      <td>0.259259</td>\n",
       "    </tr>\n",
       "    <tr>\n",
       "      <th>Dharwad</th>\n",
       "      <td>0.250000</td>\n",
       "    </tr>\n",
       "    <tr>\n",
       "      <th>Faridabad</th>\n",
       "      <td>0.250000</td>\n",
       "    </tr>\n",
       "    <tr>\n",
       "      <th>Vijayawada</th>\n",
       "      <td>0.222222</td>\n",
       "    </tr>\n",
       "    <tr>\n",
       "      <th>Kanpur</th>\n",
       "      <td>0.214286</td>\n",
       "    </tr>\n",
       "    <tr>\n",
       "      <th>Mysuru</th>\n",
       "      <td>0.200000</td>\n",
       "    </tr>\n",
       "    <tr>\n",
       "      <th>Gurugram</th>\n",
       "      <td>0.181818</td>\n",
       "    </tr>\n",
       "    <tr>\n",
       "      <th>Vellore</th>\n",
       "      <td>0.181818</td>\n",
       "    </tr>\n",
       "    <tr>\n",
       "      <th>New Delhi</th>\n",
       "      <td>0.153846</td>\n",
       "    </tr>\n",
       "    <tr>\n",
       "      <th>Jaipur</th>\n",
       "      <td>0.107143</td>\n",
       "    </tr>\n",
       "    <tr>\n",
       "      <th>Kharagpur</th>\n",
       "      <td>0.083333</td>\n",
       "    </tr>\n",
       "    <tr>\n",
       "      <th>Chandigarh</th>\n",
       "      <td>0.076923</td>\n",
       "    </tr>\n",
       "    <tr>\n",
       "      <th>Bhubaneswar</th>\n",
       "      <td>0.074074</td>\n",
       "    </tr>\n",
       "    <tr>\n",
       "      <th>Ranchi</th>\n",
       "      <td>0.000000</td>\n",
       "    </tr>\n",
       "    <tr>\n",
       "      <th>Rajkot</th>\n",
       "      <td>0.000000</td>\n",
       "    </tr>\n",
       "    <tr>\n",
       "      <th>Roorkee</th>\n",
       "      <td>0.000000</td>\n",
       "    </tr>\n",
       "    <tr>\n",
       "      <th>Ajmer</th>\n",
       "      <td>0.000000</td>\n",
       "    </tr>\n",
       "    <tr>\n",
       "      <th>Raigarh</th>\n",
       "      <td>0.000000</td>\n",
       "    </tr>\n",
       "    <tr>\n",
       "      <th>Ahmednagar</th>\n",
       "      <td>0.000000</td>\n",
       "    </tr>\n",
       "    <tr>\n",
       "      <th>Rudrapur</th>\n",
       "      <td>0.000000</td>\n",
       "    </tr>\n",
       "    <tr>\n",
       "      <th>Salem</th>\n",
       "      <td>0.000000</td>\n",
       "    </tr>\n",
       "    <tr>\n",
       "      <th>Raebareli</th>\n",
       "      <td>0.000000</td>\n",
       "    </tr>\n",
       "    <tr>\n",
       "      <th>Alappuzha</th>\n",
       "      <td>0.000000</td>\n",
       "    </tr>\n",
       "    <tr>\n",
       "      <th>Pantnagar</th>\n",
       "      <td>0.000000</td>\n",
       "    </tr>\n",
       "    <tr>\n",
       "      <th>Prayagraj</th>\n",
       "      <td>0.000000</td>\n",
       "    </tr>\n",
       "    <tr>\n",
       "      <th>Pandua</th>\n",
       "      <td>0.000000</td>\n",
       "    </tr>\n",
       "    <tr>\n",
       "      <th>Nizamabad</th>\n",
       "      <td>0.000000</td>\n",
       "    </tr>\n",
       "    <tr>\n",
       "      <th>Annur Mettupalayam</th>\n",
       "      <td>0.000000</td>\n",
       "    </tr>\n",
       "    <tr>\n",
       "      <th>Ooty</th>\n",
       "      <td>0.000000</td>\n",
       "    </tr>\n",
       "    <tr>\n",
       "      <th>Pala</th>\n",
       "      <td>0.000000</td>\n",
       "    </tr>\n",
       "    <tr>\n",
       "      <th>Ambasamudram</th>\n",
       "      <td>0.000000</td>\n",
       "    </tr>\n",
       "    <tr>\n",
       "      <th>Palwal</th>\n",
       "      <td>0.000000</td>\n",
       "    </tr>\n",
       "    <tr>\n",
       "      <th>Panaji</th>\n",
       "      <td>0.000000</td>\n",
       "    </tr>\n",
       "    <tr>\n",
       "      <th>Panipat</th>\n",
       "      <td>0.000000</td>\n",
       "    </tr>\n",
       "    <tr>\n",
       "      <th>Aligarh</th>\n",
       "      <td>0.000000</td>\n",
       "    </tr>\n",
       "    <tr>\n",
       "      <th>Sancoale</th>\n",
       "      <td>0.000000</td>\n",
       "    </tr>\n",
       "    <tr>\n",
       "      <th>Alwar</th>\n",
       "      <td>0.000000</td>\n",
       "    </tr>\n",
       "    <tr>\n",
       "      <th>Patiala</th>\n",
       "      <td>0.000000</td>\n",
       "    </tr>\n",
       "    <tr>\n",
       "      <th>Patna</th>\n",
       "      <td>0.000000</td>\n",
       "    </tr>\n",
       "    <tr>\n",
       "      <th>Phagwara</th>\n",
       "      <td>0.000000</td>\n",
       "    </tr>\n",
       "    <tr>\n",
       "      <th>Pilani</th>\n",
       "      <td>0.000000</td>\n",
       "    </tr>\n",
       "    <tr>\n",
       "      <th>Pilkhuwa</th>\n",
       "      <td>0.000000</td>\n",
       "    </tr>\n",
       "    <tr>\n",
       "      <th>Sambalpur</th>\n",
       "      <td>0.000000</td>\n",
       "    </tr>\n",
       "    <tr>\n",
       "      <th>Solan</th>\n",
       "      <td>0.000000</td>\n",
       "    </tr>\n",
       "    <tr>\n",
       "      <th>Sangareddy</th>\n",
       "      <td>0.000000</td>\n",
       "    </tr>\n",
       "    <tr>\n",
       "      <th>Thiruvananthapuram</th>\n",
       "      <td>0.000000</td>\n",
       "    </tr>\n",
       "    <tr>\n",
       "      <th>Tiruchirappalli</th>\n",
       "      <td>0.000000</td>\n",
       "    </tr>\n",
       "    <tr>\n",
       "      <th>Tiruppur</th>\n",
       "      <td>0.000000</td>\n",
       "    </tr>\n",
       "    <tr>\n",
       "      <th>Trichey</th>\n",
       "      <td>0.000000</td>\n",
       "    </tr>\n",
       "    <tr>\n",
       "      <th>Udaipur</th>\n",
       "      <td>0.000000</td>\n",
       "    </tr>\n",
       "    <tr>\n",
       "      <th>Ujire</th>\n",
       "      <td>0.000000</td>\n",
       "    </tr>\n",
       "    <tr>\n",
       "      <th>Uppinangady</th>\n",
       "      <td>0.000000</td>\n",
       "    </tr>\n",
       "    <tr>\n",
       "      <th>Vadodara</th>\n",
       "      <td>0.000000</td>\n",
       "    </tr>\n",
       "    <tr>\n",
       "      <th>Valsad</th>\n",
       "      <td>0.000000</td>\n",
       "    </tr>\n",
       "    <tr>\n",
       "      <th>Varanasi</th>\n",
       "      <td>0.000000</td>\n",
       "    </tr>\n",
       "    <tr>\n",
       "      <th>Virar</th>\n",
       "      <td>0.000000</td>\n",
       "    </tr>\n",
       "    <tr>\n",
       "      <th>Vizianagaram</th>\n",
       "      <td>0.000000</td>\n",
       "    </tr>\n",
       "    <tr>\n",
       "      <th>Walajapet</th>\n",
       "      <td>0.000000</td>\n",
       "    </tr>\n",
       "    <tr>\n",
       "      <th>Warangal</th>\n",
       "      <td>0.000000</td>\n",
       "    </tr>\n",
       "    <tr>\n",
       "      <th>Wardha</th>\n",
       "      <td>0.000000</td>\n",
       "    </tr>\n",
       "    <tr>\n",
       "      <th>Yamuna Nagar</th>\n",
       "      <td>0.000000</td>\n",
       "    </tr>\n",
       "    <tr>\n",
       "      <th>Yavatmal</th>\n",
       "      <td>0.000000</td>\n",
       "    </tr>\n",
       "    <tr>\n",
       "      <th>Yogyakarta City</th>\n",
       "      <td>0.000000</td>\n",
       "    </tr>\n",
       "    <tr>\n",
       "      <th>Agra</th>\n",
       "      <td>0.000000</td>\n",
       "    </tr>\n",
       "    <tr>\n",
       "      <th>Thanjavur</th>\n",
       "      <td>0.000000</td>\n",
       "    </tr>\n",
       "    <tr>\n",
       "      <th>Sathyamangalam</th>\n",
       "      <td>0.000000</td>\n",
       "    </tr>\n",
       "    <tr>\n",
       "      <th>Thane</th>\n",
       "      <td>0.000000</td>\n",
       "    </tr>\n",
       "    <tr>\n",
       "      <th>Satna</th>\n",
       "      <td>0.000000</td>\n",
       "    </tr>\n",
       "    <tr>\n",
       "      <th>Secunderabad</th>\n",
       "      <td>0.000000</td>\n",
       "    </tr>\n",
       "    <tr>\n",
       "      <th>Shamli</th>\n",
       "      <td>0.000000</td>\n",
       "    </tr>\n",
       "    <tr>\n",
       "      <th>Shillong</th>\n",
       "      <td>0.000000</td>\n",
       "    </tr>\n",
       "    <tr>\n",
       "      <th>Shirpur</th>\n",
       "      <td>0.000000</td>\n",
       "    </tr>\n",
       "    <tr>\n",
       "      <th>Shirpur-Warwade</th>\n",
       "      <td>0.000000</td>\n",
       "    </tr>\n",
       "    <tr>\n",
       "      <th>Sikar</th>\n",
       "      <td>0.000000</td>\n",
       "    </tr>\n",
       "    <tr>\n",
       "      <th>Siliguri</th>\n",
       "      <td>0.000000</td>\n",
       "    </tr>\n",
       "    <tr>\n",
       "      <th>Asansol</th>\n",
       "      <td>0.000000</td>\n",
       "    </tr>\n",
       "    <tr>\n",
       "      <th>Sonipat</th>\n",
       "      <td>0.000000</td>\n",
       "    </tr>\n",
       "    <tr>\n",
       "      <th>Srikakulam</th>\n",
       "      <td>0.000000</td>\n",
       "    </tr>\n",
       "    <tr>\n",
       "      <th>Srinagar</th>\n",
       "      <td>0.000000</td>\n",
       "    </tr>\n",
       "    <tr>\n",
       "      <th>Sullurupeta</th>\n",
       "      <td>0.000000</td>\n",
       "    </tr>\n",
       "    <tr>\n",
       "      <th>Sultanpur</th>\n",
       "      <td>0.000000</td>\n",
       "    </tr>\n",
       "    <tr>\n",
       "      <th>Tadepalligudem</th>\n",
       "      <td>0.000000</td>\n",
       "    </tr>\n",
       "    <tr>\n",
       "      <th>Tadipatri</th>\n",
       "      <td>0.000000</td>\n",
       "    </tr>\n",
       "    <tr>\n",
       "      <th>Tezpur</th>\n",
       "      <td>0.000000</td>\n",
       "    </tr>\n",
       "    <tr>\n",
       "      <th>Arambagh</th>\n",
       "      <td>0.000000</td>\n",
       "    </tr>\n",
       "    <tr>\n",
       "      <th>Mohali</th>\n",
       "      <td>0.000000</td>\n",
       "    </tr>\n",
       "    <tr>\n",
       "      <th>Narsapur</th>\n",
       "      <td>0.000000</td>\n",
       "    </tr>\n",
       "    <tr>\n",
       "      <th>Jamshedpur</th>\n",
       "      <td>0.000000</td>\n",
       "    </tr>\n",
       "    <tr>\n",
       "      <th>Guwahati</th>\n",
       "      <td>0.000000</td>\n",
       "    </tr>\n",
       "    <tr>\n",
       "      <th>Gwalior</th>\n",
       "      <td>0.000000</td>\n",
       "    </tr>\n",
       "    <tr>\n",
       "      <th>Haldia</th>\n",
       "      <td>0.000000</td>\n",
       "    </tr>\n",
       "    <tr>\n",
       "      <th>Haldwani</th>\n",
       "      <td>0.000000</td>\n",
       "    </tr>\n",
       "    <tr>\n",
       "      <th>Hamirpur</th>\n",
       "      <td>0.000000</td>\n",
       "    </tr>\n",
       "    <tr>\n",
       "      <th>Hanamkonda</th>\n",
       "      <td>0.000000</td>\n",
       "    </tr>\n",
       "    <tr>\n",
       "      <th>Haryana</th>\n",
       "      <td>0.000000</td>\n",
       "    </tr>\n",
       "    <tr>\n",
       "      <th>Hoboken</th>\n",
       "      <td>0.000000</td>\n",
       "    </tr>\n",
       "    <tr>\n",
       "      <th>Howrah</th>\n",
       "      <td>0.000000</td>\n",
       "    </tr>\n",
       "    <tr>\n",
       "      <th>Hubballi</th>\n",
       "      <td>0.000000</td>\n",
       "    </tr>\n",
       "    <tr>\n",
       "      <th>Bharatpur</th>\n",
       "      <td>0.000000</td>\n",
       "    </tr>\n",
       "    <tr>\n",
       "      <th>Ichalkaranji</th>\n",
       "      <td>0.000000</td>\n",
       "    </tr>\n",
       "    <tr>\n",
       "      <th>Idupulapaya</th>\n",
       "      <td>0.000000</td>\n",
       "    </tr>\n",
       "    <tr>\n",
       "      <th>Jabalpur</th>\n",
       "      <td>0.000000</td>\n",
       "    </tr>\n",
       "    <tr>\n",
       "      <th>Jagtial</th>\n",
       "      <td>0.000000</td>\n",
       "    </tr>\n",
       "    <tr>\n",
       "      <th>Jalandhar</th>\n",
       "      <td>0.000000</td>\n",
       "    </tr>\n",
       "    <tr>\n",
       "      <th>Jalgaon</th>\n",
       "      <td>0.000000</td>\n",
       "    </tr>\n",
       "    <tr>\n",
       "      <th>Guntur</th>\n",
       "      <td>0.000000</td>\n",
       "    </tr>\n",
       "    <tr>\n",
       "      <th>Guna</th>\n",
       "      <td>0.000000</td>\n",
       "    </tr>\n",
       "    <tr>\n",
       "      <th>Bhavnagar</th>\n",
       "      <td>0.000000</td>\n",
       "    </tr>\n",
       "    <tr>\n",
       "      <th>Dibrugarh</th>\n",
       "      <td>0.000000</td>\n",
       "    </tr>\n",
       "    <tr>\n",
       "      <th>Bhiwadi</th>\n",
       "      <td>0.000000</td>\n",
       "    </tr>\n",
       "    <tr>\n",
       "      <th>Bhimtal</th>\n",
       "      <td>0.000000</td>\n",
       "    </tr>\n",
       "    <tr>\n",
       "      <th>Bloomington</th>\n",
       "      <td>0.000000</td>\n",
       "    </tr>\n",
       "    <tr>\n",
       "      <th>Boisar</th>\n",
       "      <td>0.000000</td>\n",
       "    </tr>\n",
       "    <tr>\n",
       "      <th>Brahmapur</th>\n",
       "      <td>0.000000</td>\n",
       "    </tr>\n",
       "    <tr>\n",
       "      <th>Chittoor</th>\n",
       "      <td>0.000000</td>\n",
       "    </tr>\n",
       "    <tr>\n",
       "      <th>Dehradun</th>\n",
       "      <td>0.000000</td>\n",
       "    </tr>\n",
       "    <tr>\n",
       "      <th>Durg</th>\n",
       "      <td>0.000000</td>\n",
       "    </tr>\n",
       "    <tr>\n",
       "      <th>Gorakhpur</th>\n",
       "      <td>0.000000</td>\n",
       "    </tr>\n",
       "    <tr>\n",
       "      <th>Eluru</th>\n",
       "      <td>0.000000</td>\n",
       "    </tr>\n",
       "    <tr>\n",
       "      <th>Gandhinagar</th>\n",
       "      <td>0.000000</td>\n",
       "    </tr>\n",
       "    <tr>\n",
       "      <th>Bhilai</th>\n",
       "      <td>0.000000</td>\n",
       "    </tr>\n",
       "    <tr>\n",
       "      <th>Gaya</th>\n",
       "      <td>0.000000</td>\n",
       "    </tr>\n",
       "    <tr>\n",
       "      <th>Goa Velha</th>\n",
       "      <td>0.000000</td>\n",
       "    </tr>\n",
       "    <tr>\n",
       "      <th>Godhra</th>\n",
       "      <td>0.000000</td>\n",
       "    </tr>\n",
       "    <tr>\n",
       "      <th>Gonda</th>\n",
       "      <td>0.000000</td>\n",
       "    </tr>\n",
       "    <tr>\n",
       "      <th>Jammu</th>\n",
       "      <td>0.000000</td>\n",
       "    </tr>\n",
       "    <tr>\n",
       "      <th>Jersey City</th>\n",
       "      <td>0.000000</td>\n",
       "    </tr>\n",
       "    <tr>\n",
       "      <th>Nanded-Waghala</th>\n",
       "      <td>0.000000</td>\n",
       "    </tr>\n",
       "    <tr>\n",
       "      <th>Jhalawar</th>\n",
       "      <td>0.000000</td>\n",
       "    </tr>\n",
       "    <tr>\n",
       "      <th>Lohardaga</th>\n",
       "      <td>0.000000</td>\n",
       "    </tr>\n",
       "    <tr>\n",
       "      <th>Ludhiana</th>\n",
       "      <td>0.000000</td>\n",
       "    </tr>\n",
       "    <tr>\n",
       "      <th>Aurangabad</th>\n",
       "      <td>0.000000</td>\n",
       "    </tr>\n",
       "    <tr>\n",
       "      <th>Malappuram</th>\n",
       "      <td>0.000000</td>\n",
       "    </tr>\n",
       "    <tr>\n",
       "      <th>Malvern</th>\n",
       "      <td>0.000000</td>\n",
       "    </tr>\n",
       "    <tr>\n",
       "      <th>Mandya</th>\n",
       "      <td>0.000000</td>\n",
       "    </tr>\n",
       "    <tr>\n",
       "      <th>Mangalore</th>\n",
       "      <td>0.000000</td>\n",
       "    </tr>\n",
       "    <tr>\n",
       "      <th>Manipal</th>\n",
       "      <td>0.000000</td>\n",
       "    </tr>\n",
       "    <tr>\n",
       "      <th>Mathura</th>\n",
       "      <td>0.000000</td>\n",
       "    </tr>\n",
       "    <tr>\n",
       "      <th>Meerut</th>\n",
       "      <td>0.000000</td>\n",
       "    </tr>\n",
       "    <tr>\n",
       "      <th>Moradabad</th>\n",
       "      <td>0.000000</td>\n",
       "    </tr>\n",
       "    <tr>\n",
       "      <th>Morusumalli</th>\n",
       "      <td>0.000000</td>\n",
       "    </tr>\n",
       "    <tr>\n",
       "      <th>Muzaffarpur</th>\n",
       "      <td>0.000000</td>\n",
       "    </tr>\n",
       "    <tr>\n",
       "      <th>Nadia</th>\n",
       "      <td>0.000000</td>\n",
       "    </tr>\n",
       "    <tr>\n",
       "      <th>Nadiad</th>\n",
       "      <td>0.000000</td>\n",
       "    </tr>\n",
       "    <tr>\n",
       "      <th>Namakkal</th>\n",
       "      <td>0.000000</td>\n",
       "    </tr>\n",
       "    <tr>\n",
       "      <th>Nanded</th>\n",
       "      <td>0.000000</td>\n",
       "    </tr>\n",
       "    <tr>\n",
       "      <th>Lagos</th>\n",
       "      <td>0.000000</td>\n",
       "    </tr>\n",
       "    <tr>\n",
       "      <th>Kurukshetra</th>\n",
       "      <td>0.000000</td>\n",
       "    </tr>\n",
       "    <tr>\n",
       "      <th>Azamgarh</th>\n",
       "      <td>0.000000</td>\n",
       "    </tr>\n",
       "    <tr>\n",
       "      <th>Karur</th>\n",
       "      <td>0.000000</td>\n",
       "    </tr>\n",
       "    <tr>\n",
       "      <th>Jhansi</th>\n",
       "      <td>0.000000</td>\n",
       "    </tr>\n",
       "    <tr>\n",
       "      <th>Kadapa</th>\n",
       "      <td>0.000000</td>\n",
       "    </tr>\n",
       "    <tr>\n",
       "      <th>Kalyani</th>\n",
       "      <td>0.000000</td>\n",
       "    </tr>\n",
       "    <tr>\n",
       "      <th>Barhampur</th>\n",
       "      <td>0.000000</td>\n",
       "    </tr>\n",
       "    <tr>\n",
       "      <th>Kanpur Dehat</th>\n",
       "      <td>0.000000</td>\n",
       "    </tr>\n",
       "    <tr>\n",
       "      <th>Kanpur Nagar</th>\n",
       "      <td>0.000000</td>\n",
       "    </tr>\n",
       "    <tr>\n",
       "      <th>Banswara</th>\n",
       "      <td>0.000000</td>\n",
       "    </tr>\n",
       "    <tr>\n",
       "      <th>Kashipur</th>\n",
       "      <td>0.000000</td>\n",
       "    </tr>\n",
       "    <tr>\n",
       "      <th>Balasore</th>\n",
       "      <td>0.000000</td>\n",
       "    </tr>\n",
       "    <tr>\n",
       "      <th>Katra</th>\n",
       "      <td>0.000000</td>\n",
       "    </tr>\n",
       "    <tr>\n",
       "      <th>Khammam</th>\n",
       "      <td>0.000000</td>\n",
       "    </tr>\n",
       "    <tr>\n",
       "      <th>Bambolim</th>\n",
       "      <td>0.000000</td>\n",
       "    </tr>\n",
       "    <tr>\n",
       "      <th>Kolaghat</th>\n",
       "      <td>0.000000</td>\n",
       "    </tr>\n",
       "    <tr>\n",
       "      <th>Kollam</th>\n",
       "      <td>0.000000</td>\n",
       "    </tr>\n",
       "    <tr>\n",
       "      <th>Kota</th>\n",
       "      <td>0.000000</td>\n",
       "    </tr>\n",
       "    <tr>\n",
       "      <th>Kottayam</th>\n",
       "      <td>0.000000</td>\n",
       "    </tr>\n",
       "    <tr>\n",
       "      <th>Aachen</th>\n",
       "      <td>0.000000</td>\n",
       "    </tr>\n",
       "  </tbody>\n",
       "</table>\n",
       "</div>"
      ],
      "text/plain": [
       "                         exp\n",
       "Current_City                \n",
       "Zurich              8.000000\n",
       "Indi                5.000000\n",
       "Nashik              4.000000\n",
       "Akola               4.000000\n",
       "Kannur              3.666667\n",
       "Allahabad           3.000000\n",
       "Gulbarga            3.000000\n",
       "Rajapalayam         3.000000\n",
       "Bathinda            2.500000\n",
       "Thrissur            2.083333\n",
       "Karjat              2.000000\n",
       "Rosenheim           2.000000\n",
       "Bangalore           1.787834\n",
       "Hyderabad           1.711409\n",
       "Vasco Da Gama       1.500000\n",
       "Kurnool             1.500000\n",
       "Noida               1.358974\n",
       "Pimpri-Chinchwad    1.333333\n",
       "Pune                1.324324\n",
       "Navi Mumbai         1.166667\n",
       "Kochi               1.000000\n",
       "Ado Ekiti           1.000000\n",
       "Mahé                1.000000\n",
       "Bidrahalli          1.000000\n",
       "Palghar             1.000000\n",
       "Pathanamthitta      1.000000\n",
       "Surat               1.000000\n",
       "Gangtok             1.000000\n",
       "Bilaspur            1.000000\n",
       "Kozhikode           1.000000\n",
       "Visakhapatnam       0.941176\n",
       "Ghaziabad           0.875000\n",
       "Gurgaon             0.857143\n",
       "Tirupati            0.800000\n",
       "Nagpur              0.764706\n",
       "Agartala            0.750000\n",
       "Mumbai              0.739583\n",
       "Kolkata             0.714286\n",
       "Kolhapur            0.666667\n",
       "Ernakulam           0.666667\n",
       "Bhopal              0.666667\n",
       "Bokaro Steel City   0.666667\n",
       "Greater Noida       0.555556\n",
       "Belgaum             0.500000\n",
       "Rourkela            0.500000\n",
       "Dhanbad             0.400000\n",
       "Chennai             0.389610\n",
       "Delhi               0.355191\n",
       "Lucknow             0.352941\n",
       "Durgapur            0.333333\n",
       "Nellore             0.333333\n",
       "Ahmedabad           0.294118\n",
       "Coimbatore          0.272727\n",
       "Indore              0.259259\n",
       "Dharwad             0.250000\n",
       "Faridabad           0.250000\n",
       "Vijayawada          0.222222\n",
       "Kanpur              0.214286\n",
       "Mysuru              0.200000\n",
       "Gurugram            0.181818\n",
       "Vellore             0.181818\n",
       "New Delhi           0.153846\n",
       "Jaipur              0.107143\n",
       "Kharagpur           0.083333\n",
       "Chandigarh          0.076923\n",
       "Bhubaneswar         0.074074\n",
       "Ranchi              0.000000\n",
       "Rajkot              0.000000\n",
       "Roorkee             0.000000\n",
       "Ajmer               0.000000\n",
       "Raigarh             0.000000\n",
       "Ahmednagar          0.000000\n",
       "Rudrapur            0.000000\n",
       "Salem               0.000000\n",
       "Raebareli           0.000000\n",
       "Alappuzha           0.000000\n",
       "Pantnagar           0.000000\n",
       "Prayagraj           0.000000\n",
       "Pandua              0.000000\n",
       "Nizamabad           0.000000\n",
       "Annur Mettupalayam  0.000000\n",
       "Ooty                0.000000\n",
       "Pala                0.000000\n",
       "Ambasamudram        0.000000\n",
       "Palwal              0.000000\n",
       "Panaji              0.000000\n",
       "Panipat             0.000000\n",
       "Aligarh             0.000000\n",
       "Sancoale            0.000000\n",
       "Alwar               0.000000\n",
       "Patiala             0.000000\n",
       "Patna               0.000000\n",
       "Phagwara            0.000000\n",
       "Pilani              0.000000\n",
       "Pilkhuwa            0.000000\n",
       "Sambalpur           0.000000\n",
       "Solan               0.000000\n",
       "Sangareddy          0.000000\n",
       "Thiruvananthapuram  0.000000\n",
       "Tiruchirappalli     0.000000\n",
       "Tiruppur            0.000000\n",
       "Trichey             0.000000\n",
       "Udaipur             0.000000\n",
       "Ujire               0.000000\n",
       "Uppinangady         0.000000\n",
       "Vadodara            0.000000\n",
       "Valsad              0.000000\n",
       "Varanasi            0.000000\n",
       "Virar               0.000000\n",
       "Vizianagaram        0.000000\n",
       "Walajapet           0.000000\n",
       "Warangal            0.000000\n",
       "Wardha              0.000000\n",
       "Yamuna Nagar        0.000000\n",
       "Yavatmal            0.000000\n",
       "Yogyakarta City     0.000000\n",
       "Agra                0.000000\n",
       "Thanjavur           0.000000\n",
       "Sathyamangalam      0.000000\n",
       "Thane               0.000000\n",
       "Satna               0.000000\n",
       "Secunderabad        0.000000\n",
       "Shamli              0.000000\n",
       "Shillong            0.000000\n",
       "Shirpur             0.000000\n",
       "Shirpur-Warwade     0.000000\n",
       "Sikar               0.000000\n",
       "Siliguri            0.000000\n",
       "Asansol             0.000000\n",
       "Sonipat             0.000000\n",
       "Srikakulam          0.000000\n",
       "Srinagar            0.000000\n",
       "Sullurupeta         0.000000\n",
       "Sultanpur           0.000000\n",
       "Tadepalligudem      0.000000\n",
       "Tadipatri           0.000000\n",
       "Tezpur              0.000000\n",
       "Arambagh            0.000000\n",
       "Mohali              0.000000\n",
       "Narsapur            0.000000\n",
       "Jamshedpur          0.000000\n",
       "Guwahati            0.000000\n",
       "Gwalior             0.000000\n",
       "Haldia              0.000000\n",
       "Haldwani            0.000000\n",
       "Hamirpur            0.000000\n",
       "Hanamkonda          0.000000\n",
       "Haryana             0.000000\n",
       "Hoboken             0.000000\n",
       "Howrah              0.000000\n",
       "Hubballi            0.000000\n",
       "Bharatpur           0.000000\n",
       "Ichalkaranji        0.000000\n",
       "Idupulapaya         0.000000\n",
       "Jabalpur            0.000000\n",
       "Jagtial             0.000000\n",
       "Jalandhar           0.000000\n",
       "Jalgaon             0.000000\n",
       "Guntur              0.000000\n",
       "Guna                0.000000\n",
       "Bhavnagar           0.000000\n",
       "Dibrugarh           0.000000\n",
       "Bhiwadi             0.000000\n",
       "Bhimtal             0.000000\n",
       "Bloomington         0.000000\n",
       "Boisar              0.000000\n",
       "Brahmapur           0.000000\n",
       "Chittoor            0.000000\n",
       "Dehradun            0.000000\n",
       "Durg                0.000000\n",
       "Gorakhpur           0.000000\n",
       "Eluru               0.000000\n",
       "Gandhinagar         0.000000\n",
       "Bhilai              0.000000\n",
       "Gaya                0.000000\n",
       "Goa Velha           0.000000\n",
       "Godhra              0.000000\n",
       "Gonda               0.000000\n",
       "Jammu               0.000000\n",
       "Jersey City         0.000000\n",
       "Nanded-Waghala      0.000000\n",
       "Jhalawar            0.000000\n",
       "Lohardaga           0.000000\n",
       "Ludhiana            0.000000\n",
       "Aurangabad          0.000000\n",
       "Malappuram          0.000000\n",
       "Malvern             0.000000\n",
       "Mandya              0.000000\n",
       "Mangalore           0.000000\n",
       "Manipal             0.000000\n",
       "Mathura             0.000000\n",
       "Meerut              0.000000\n",
       "Moradabad           0.000000\n",
       "Morusumalli         0.000000\n",
       "Muzaffarpur         0.000000\n",
       "Nadia               0.000000\n",
       "Nadiad              0.000000\n",
       "Namakkal            0.000000\n",
       "Nanded              0.000000\n",
       "Lagos               0.000000\n",
       "Kurukshetra         0.000000\n",
       "Azamgarh            0.000000\n",
       "Karur               0.000000\n",
       "Jhansi              0.000000\n",
       "Kadapa              0.000000\n",
       "Kalyani             0.000000\n",
       "Barhampur           0.000000\n",
       "Kanpur Dehat        0.000000\n",
       "Kanpur Nagar        0.000000\n",
       "Banswara            0.000000\n",
       "Kashipur            0.000000\n",
       "Balasore            0.000000\n",
       "Katra               0.000000\n",
       "Khammam             0.000000\n",
       "Bambolim            0.000000\n",
       "Kolaghat            0.000000\n",
       "Kollam              0.000000\n",
       "Kota                0.000000\n",
       "Kottayam            0.000000\n",
       "Aachen              0.000000"
      ]
     },
     "execution_count": 11,
     "metadata": {},
     "output_type": "execute_result"
    }
   ],
   "source": [
    "pd.pivot_table(df, index = 'Current_City', values = 'exp').sort_values('exp', ascending = False)"
   ]
  },
  {
   "cell_type": "code",
   "execution_count": 12,
   "metadata": {},
   "outputs": [
    {
     "data": {
      "text/plain": [
       "dtype('O')"
      ]
     },
     "execution_count": 12,
     "metadata": {},
     "output_type": "execute_result"
    }
   ],
   "source": [
    "df['Other_skills'].dtypes"
   ]
  },
  {
   "cell_type": "code",
   "execution_count": 13,
   "metadata": {},
   "outputs": [],
   "source": [
    "df['Other_skills'] = df['Other_skills'].astype(str)"
   ]
  },
  {
   "cell_type": "code",
   "execution_count": 14,
   "metadata": {},
   "outputs": [],
   "source": [
    "df['Other_skills'] = df['Other_skills'].str.lower()"
   ]
  },
  {
   "cell_type": "code",
   "execution_count": 15,
   "metadata": {},
   "outputs": [
    {
     "name": "stdout",
     "output_type": "stream",
     "text": [
      "1    1860\n",
      "0     308\n",
      "Name: python_yn, dtype: int64\n"
     ]
    }
   ],
   "source": [
    "df['python_yn'] = df['Other_skills'].apply(lambda x: 1 if 'python' in x else 0)\n",
    "print(df.python_yn.value_counts())\n"
   ]
  },
  {
   "cell_type": "code",
   "execution_count": 16,
   "metadata": {},
   "outputs": [
    {
     "data": {
      "text/plain": [
       "0    1825\n",
       "1     343\n",
       "Name: data_science_yn, dtype: int64"
      ]
     },
     "execution_count": 16,
     "metadata": {},
     "output_type": "execute_result"
    }
   ],
   "source": [
    "df['data_science_yn'] = df['Other_skills'].apply(lambda x: 1 if 'data science' in x else 0)\n",
    "df.data_science_yn.value_counts()"
   ]
  },
  {
   "cell_type": "code",
   "execution_count": 17,
   "metadata": {},
   "outputs": [
    {
     "data": {
      "text/plain": [
       "0    2168\n",
       "Name: TensorFlow_yn, dtype: int64"
      ]
     },
     "execution_count": 17,
     "metadata": {},
     "output_type": "execute_result"
    }
   ],
   "source": [
    "df['TensorFlow_yn'] = df['Other_skills'].apply(lambda x: 1 if 'tensor' in x else 0)\n",
    "df.TensorFlow_yn.value_counts()"
   ]
  },
  {
   "cell_type": "code",
   "execution_count": 18,
   "metadata": {},
   "outputs": [
    {
     "data": {
      "text/plain": [
       "0    2168\n",
       "Name: PyTorch_yn, dtype: int64"
      ]
     },
     "execution_count": 18,
     "metadata": {},
     "output_type": "execute_result"
    }
   ],
   "source": [
    "df['PyTorch_yn'] = df['Other_skills'].apply(lambda x: 1 if 'torch' in x else 0)\n",
    "df.PyTorch_yn.value_counts()"
   ]
  },
  {
   "cell_type": "code",
   "execution_count": 19,
   "metadata": {},
   "outputs": [
    {
     "data": {
      "text/plain": [
       "0    2168\n",
       "Name: PyPI_yn, dtype: int64"
      ]
     },
     "execution_count": 19,
     "metadata": {},
     "output_type": "execute_result"
    }
   ],
   "source": [
    "df['PyPI_yn'] = df['Other_skills'].apply(lambda x: 1 if 'pip' in x else 0)\n",
    "df.PyPI_yn.value_counts()"
   ]
  },
  {
   "cell_type": "code",
   "execution_count": 20,
   "metadata": {},
   "outputs": [
    {
     "data": {
      "text/plain": [
       "0    2073\n",
       "1      95\n",
       "Name: sklearn_yn, dtype: int64"
      ]
     },
     "execution_count": 20,
     "metadata": {},
     "output_type": "execute_result"
    }
   ],
   "source": [
    "df['sklearn_yn'] = df['Other_skills'].apply(lambda x: 1 if 'sk' in x else 0)\n",
    "df.sklearn_yn.value_counts()"
   ]
  },
  {
   "cell_type": "code",
   "execution_count": 21,
   "metadata": {},
   "outputs": [
    {
     "data": {
      "text/plain": [
       "0    1927\n",
       "1     241\n",
       "Name: Statistical_yn, dtype: int64"
      ]
     },
     "execution_count": 21,
     "metadata": {},
     "output_type": "execute_result"
    }
   ],
   "source": [
    "df['Statistical_yn'] = df['Other_skills'].apply(lambda x: 1 if 'model' in x else 0)\n",
    "df.Statistical_yn.value_counts()"
   ]
  },
  {
   "cell_type": "code",
   "execution_count": 22,
   "metadata": {},
   "outputs": [
    {
     "data": {
      "text/plain": [
       "0    1466\n",
       "1     702\n",
       "Name: ML_yn, dtype: int64"
      ]
     },
     "execution_count": 22,
     "metadata": {},
     "output_type": "execute_result"
    }
   ],
   "source": [
    "df['ML_yn'] = df['Other_skills'].apply(lambda x: 1 if 'ml' in x else 0)\n",
    "df.ML_yn.value_counts()"
   ]
  },
  {
   "cell_type": "code",
   "execution_count": 23,
   "metadata": {},
   "outputs": [
    {
     "data": {
      "text/plain": [
       "1    1449\n",
       "0     719\n",
       "Name: ml_yn, dtype: int64"
      ]
     },
     "execution_count": 23,
     "metadata": {},
     "output_type": "execute_result"
    }
   ],
   "source": [
    "df['ml_yn'] = df['Other_skills'].apply(lambda x: 1 if 'machine learning' in x else 0)\n",
    "df.ml_yn.value_counts()"
   ]
  },
  {
   "cell_type": "code",
   "execution_count": 24,
   "metadata": {},
   "outputs": [
    {
     "data": {
      "text/plain": [
       "0    1534\n",
       "1     634\n",
       "Name: Deep_yn, dtype: int64"
      ]
     },
     "execution_count": 24,
     "metadata": {},
     "output_type": "execute_result"
    }
   ],
   "source": [
    "df['Deep_yn'] = df['Other_skills'].apply(lambda x: 1 if 'deep' in x else 0)\n",
    "df.Deep_yn.value_counts()"
   ]
  },
  {
   "cell_type": "code",
   "execution_count": 25,
   "metadata": {},
   "outputs": [
    {
     "data": {
      "text/plain": [
       "0    1166\n",
       "1    1002\n",
       "Name: SQL_yn, dtype: int64"
      ]
     },
     "execution_count": 25,
     "metadata": {},
     "output_type": "execute_result"
    }
   ],
   "source": [
    "df['SQL_yn'] = df['Other_skills'].apply(lambda x: 1 if 'sql' in x else 0)\n",
    "df.SQL_yn.value_counts()"
   ]
  },
  {
   "cell_type": "code",
   "execution_count": 26,
   "metadata": {},
   "outputs": [
    {
     "data": {
      "text/plain": [
       "0    2098\n",
       "1      70\n",
       "Name: Flask_yn, dtype: int64"
      ]
     },
     "execution_count": 26,
     "metadata": {},
     "output_type": "execute_result"
    }
   ],
   "source": [
    "df['Flask_yn'] = df['Other_skills'].apply(lambda x: 1 if 'flask' in x else 0)\n",
    "df.Flask_yn.value_counts()"
   ]
  },
  {
   "cell_type": "code",
   "execution_count": 27,
   "metadata": {},
   "outputs": [
    {
     "data": {
      "text/plain": [
       "0    2110\n",
       "1      58\n",
       "Name: AWS_yn, dtype: int64"
      ]
     },
     "execution_count": 27,
     "metadata": {},
     "output_type": "execute_result"
    }
   ],
   "source": [
    "df['AWS_yn'] = df['Other_skills'].apply(lambda x: 1 if 'aws' in x else 0)\n",
    "df.AWS_yn.value_counts()"
   ]
  },
  {
   "cell_type": "code",
   "execution_count": 28,
   "metadata": {},
   "outputs": [
    {
     "data": {
      "text/plain": [
       "0    2168\n",
       "Name: GCP_yn, dtype: int64"
      ]
     },
     "execution_count": 28,
     "metadata": {},
     "output_type": "execute_result"
    }
   ],
   "source": [
    "df['GCP_yn'] = df['Other_skills'].apply(lambda x: 1 if 'gcp' in x else 0)\n",
    "df.GCP_yn.value_counts()"
   ]
  },
  {
   "cell_type": "code",
   "execution_count": 29,
   "metadata": {},
   "outputs": [
    {
     "data": {
      "text/plain": [
       "0    1470\n",
       "1     698\n",
       "Name: HTML_yn, dtype: int64"
      ]
     },
     "execution_count": 29,
     "metadata": {},
     "output_type": "execute_result"
    }
   ],
   "source": [
    "df['HTML_yn'] = df['Other_skills'].apply(lambda x: 1 if 'html' in x else 0)\n",
    "df.HTML_yn.value_counts()"
   ]
  },
  {
   "cell_type": "code",
   "execution_count": 30,
   "metadata": {},
   "outputs": [
    {
     "data": {
      "text/plain": [
       "0    1650\n",
       "1     518\n",
       "Name: CSS_yn, dtype: int64"
      ]
     },
     "execution_count": 30,
     "metadata": {},
     "output_type": "execute_result"
    }
   ],
   "source": [
    "df['CSS_yn'] = df['Other_skills'].apply(lambda x: 1 if 'css' in x else 0)\n",
    "df.CSS_yn.value_counts()"
   ]
  },
  {
   "cell_type": "code",
   "execution_count": 31,
   "metadata": {},
   "outputs": [
    {
     "data": {
      "text/plain": [
       "0    2010\n",
       "1     158\n",
       "Name: Bootstrap_yn, dtype: int64"
      ]
     },
     "execution_count": 31,
     "metadata": {},
     "output_type": "execute_result"
    }
   ],
   "source": [
    "df['Bootstrap_yn'] = df['Other_skills'].apply(lambda x: 1 if 'boot' in x else 0)\n",
    "df.Bootstrap_yn.value_counts()"
   ]
  },
  {
   "cell_type": "code",
   "execution_count": 32,
   "metadata": {},
   "outputs": [
    {
     "data": {
      "text/plain": [
       "0    2143\n",
       "1      25\n",
       "Name: AJAX_yn, dtype: int64"
      ]
     },
     "execution_count": 32,
     "metadata": {},
     "output_type": "execute_result"
    }
   ],
   "source": [
    "df['AJAX_yn'] = df['Other_skills'].apply(lambda x: 1 if 'ajax' in x else 0)\n",
    "df.AJAX_yn.value_counts()"
   ]
  },
  {
   "cell_type": "code",
   "execution_count": 33,
   "metadata": {},
   "outputs": [
    {
     "data": {
      "text/plain": [
       "0    1940\n",
       "1     228\n",
       "Name: PHP_yn, dtype: int64"
      ]
     },
     "execution_count": 33,
     "metadata": {},
     "output_type": "execute_result"
    }
   ],
   "source": [
    "df['PHP_yn'] = df['Other_skills'].apply(lambda x: 1 if 'php' in x else 0)\n",
    "df.PHP_yn.value_counts()"
   ]
  },
  {
   "cell_type": "code",
   "execution_count": 34,
   "metadata": {},
   "outputs": [
    {
     "data": {
      "text/plain": [
       "0    2132\n",
       "1      36\n",
       "Name: API_yn, dtype: int64"
      ]
     },
     "execution_count": 34,
     "metadata": {},
     "output_type": "execute_result"
    }
   ],
   "source": [
    "df['API_yn'] = df['Other_skills'].apply(lambda x: 1 if 'api' in x else 0)\n",
    "df.API_yn.value_counts()"
   ]
  },
  {
   "cell_type": "code",
   "execution_count": 35,
   "metadata": {},
   "outputs": [
    {
     "data": {
      "text/plain": [
       "0    2005\n",
       "1     163\n",
       "Name: Git_yn, dtype: int64"
      ]
     },
     "execution_count": 35,
     "metadata": {},
     "output_type": "execute_result"
    }
   ],
   "source": [
    "df['Git_yn'] = df['Other_skills'].apply(lambda x: 1 if 'git' in x else 0)\n",
    "df.Git_yn.value_counts()"
   ]
  },
  {
   "cell_type": "code",
   "execution_count": 36,
   "metadata": {},
   "outputs": [
    {
     "data": {
      "text/plain": [
       "0    2148\n",
       "1      20\n",
       "Name: JSON_yn, dtype: int64"
      ]
     },
     "execution_count": 36,
     "metadata": {},
     "output_type": "execute_result"
    }
   ],
   "source": [
    "df['JSON_yn'] = df['Other_skills'].apply(lambda x: 1 if 'json' in x else 0)\n",
    "df.JSON_yn.value_counts()"
   ]
  },
  {
   "cell_type": "code",
   "execution_count": 37,
   "metadata": {},
   "outputs": [
    {
     "data": {
      "text/plain": [
       "0    2023\n",
       "1     145\n",
       "Name: Mongo_yn, dtype: int64"
      ]
     },
     "execution_count": 37,
     "metadata": {},
     "output_type": "execute_result"
    }
   ],
   "source": [
    "df['Mongo_yn'] = df['Other_skills'].apply(lambda x: 1 if 'mongo' in x else 0)\n",
    "df.Mongo_yn.value_counts()"
   ]
  },
  {
   "cell_type": "code",
   "execution_count": 38,
   "metadata": {},
   "outputs": [
    {
     "data": {
      "text/plain": [
       "0    2145\n",
       "1      23\n",
       "Name: Express_yn, dtype: int64"
      ]
     },
     "execution_count": 38,
     "metadata": {},
     "output_type": "execute_result"
    }
   ],
   "source": [
    "df['Express_yn'] = df['Other_skills'].apply(lambda x: 1 if 'express' in x else 0)\n",
    "df.Express_yn.value_counts()"
   ]
  },
  {
   "cell_type": "code",
   "execution_count": 39,
   "metadata": {},
   "outputs": [
    {
     "data": {
      "text/plain": [
       "0    1961\n",
       "1     207\n",
       "Name: JS_yn, dtype: int64"
      ]
     },
     "execution_count": 39,
     "metadata": {},
     "output_type": "execute_result"
    }
   ],
   "source": [
    "df['JS_yn'] = df['Other_skills'].apply(lambda x: 1 if 'js' in x else 0)\n",
    "df.JS_yn.value_counts()\n"
   ]
  },
  {
   "cell_type": "code",
   "execution_count": 40,
   "metadata": {},
   "outputs": [
    {
     "data": {
      "text/plain": [
       "0    2067\n",
       "1     101\n",
       "Name: React_yn, dtype: int64"
      ]
     },
     "execution_count": 40,
     "metadata": {},
     "output_type": "execute_result"
    }
   ],
   "source": [
    "df['React_yn'] = df['Other_skills'].apply(lambda x: 1 if 'react' in x else 0)\n",
    "df.React_yn.value_counts()"
   ]
  },
  {
   "cell_type": "code",
   "execution_count": 41,
   "metadata": {},
   "outputs": [
    {
     "data": {
      "text/plain": [
       "0    1217\n",
       "1     951\n",
       "Name: ES6_yn, dtype: int64"
      ]
     },
     "execution_count": 41,
     "metadata": {},
     "output_type": "execute_result"
    }
   ],
   "source": [
    "df['ES6_yn'] = df['Other_skills'].apply(lambda x: 1 if 'es' in x else 0)\n",
    "df.ES6_yn.value_counts()"
   ]
  },
  {
   "cell_type": "code",
   "execution_count": 42,
   "metadata": {},
   "outputs": [
    {
     "data": {
      "text/plain": [
       "0    2040\n",
       "1     128\n",
       "Name: Linux_yn, dtype: int64"
      ]
     },
     "execution_count": 42,
     "metadata": {},
     "output_type": "execute_result"
    }
   ],
   "source": [
    "df['Linux_yn'] = df['Other_skills'].apply(lambda x: 1 if 'linux' in x else 0)\n",
    "df.Linux_yn.value_counts()"
   ]
  },
  {
   "cell_type": "code",
   "execution_count": 43,
   "metadata": {},
   "outputs": [],
   "source": [
    "skill = {1:1,0:0}\n",
    "essen = {1:2,0:-1}\n",
    "totalscore = []\n",
    "mlskillscore = []\n",
    "for exp,py,ds,tf,sk,st,deep,ml,ML,sql,fl,aws,ln in zip(df['exp'],df['python_yn'],df['data_science_yn'],df['TensorFlow_yn'],df['sklearn_yn'],df['Statistical_yn'],df['Deep_yn'] ,df['ml_yn'],df['ML_yn'],df['SQL_yn'], df['Flask_yn'],df['AWS_yn'], df['Linux_yn']):\n",
    "    skillsown = 0\n",
    "    score = 0\n",
    "    skillsown += essen.get(py,0)\n",
    "    skillsown += skill.get(ds,0)\n",
    "    skillsown += skill.get(tf,0)\n",
    "    skillsown += skill.get(sk,0)\n",
    "    skillsown += skill.get(st,0)\n",
    "    skillsown += skill.get(deep,0)\n",
    "    skillsown += skill.get(ml,0)\n",
    "    skillsown += essen.get(ML,0)\n",
    "    skillsown += essen.get(sql,0)\n",
    "    skillsown += skill.get(fl,0)\n",
    "    skillsown += skill.get(aws,0)\n",
    "    skillsown += essen.get(ln,0)\n",
    "    skillsown += exp*2\n",
    "    #score = skillscore + (exp*3)\n",
    "    totalscore.append(score)\n",
    "    mlskillscore.append(skillsown)\n",
    "#df['skillsown']=[i*3 for i in mlskillscore ]\n",
    "df['MLApproval'] = ['Yes' if i >= 20 else 'No' for i in mlskillscore]"
   ]
  },
  {
   "cell_type": "code",
   "execution_count": 44,
   "metadata": {},
   "outputs": [
    {
     "data": {
      "text/plain": [
       "No     2132\n",
       "Yes      36\n",
       "Name: MLApproval, dtype: int64"
      ]
     },
     "execution_count": 44,
     "metadata": {},
     "output_type": "execute_result"
    }
   ],
   "source": [
    "df['MLApproval'].value_counts()"
   ]
  },
  {
   "cell_type": "code",
   "execution_count": 45,
   "metadata": {
    "scrolled": true
   },
   "outputs": [],
   "source": [
    "df['totalscore'] = mlskillscore "
   ]
  },
  {
   "cell_type": "code",
   "execution_count": 46,
   "metadata": {},
   "outputs": [
    {
     "data": {
      "text/html": [
       "<div>\n",
       "<style scoped>\n",
       "    .dataframe tbody tr th:only-of-type {\n",
       "        vertical-align: middle;\n",
       "    }\n",
       "\n",
       "    .dataframe tbody tr th {\n",
       "        vertical-align: top;\n",
       "    }\n",
       "\n",
       "    .dataframe thead th {\n",
       "        text-align: right;\n",
       "    }\n",
       "</style>\n",
       "<table border=\"1\" class=\"dataframe\">\n",
       "  <thead>\n",
       "    <tr style=\"text-align: right;\">\n",
       "      <th></th>\n",
       "      <th>exp</th>\n",
       "      <th>totalscore</th>\n",
       "      <th>MLApproval</th>\n",
       "    </tr>\n",
       "  </thead>\n",
       "  <tbody>\n",
       "    <tr>\n",
       "      <th>0</th>\n",
       "      <td>2</td>\n",
       "      <td>4</td>\n",
       "      <td>No</td>\n",
       "    </tr>\n",
       "  </tbody>\n",
       "</table>\n",
       "</div>"
      ],
      "text/plain": [
       "   exp  totalscore MLApproval\n",
       "0    2           4         No"
      ]
     },
     "execution_count": 46,
     "metadata": {},
     "output_type": "execute_result"
    }
   ],
   "source": [
    "df_s = df[['exp','totalscore','MLApproval']]\n",
    "df_s.head(1)"
   ]
  },
  {
   "cell_type": "code",
   "execution_count": 47,
   "metadata": {},
   "outputs": [],
   "source": [
    "from sklearn.preprocessing import MinMaxScaler\n",
    "from sklearn.model_selection import train_test_split\n",
    "from sklearn.tree import DecisionTreeClassifier\n",
    "from sklearn.ensemble import RandomForestClassifier\n",
    "from sklearn.utils import resample"
   ]
  },
  {
   "cell_type": "code",
   "execution_count": 48,
   "metadata": {},
   "outputs": [],
   "source": [
    "df_dummy = pd.get_dummies(df_s, columns=df_s.columns[:-1])\n",
    "#df_dummy"
   ]
  },
  {
   "cell_type": "code",
   "execution_count": 49,
   "metadata": {},
   "outputs": [],
   "source": [
    "df_majority = df_dummy[df_dummy.MLApproval=='No']\n",
    "df_minority = df_dummy[df_dummy.MLApproval=='Yes']\n",
    "testdummy = df_dummy.iloc[-2:]\n",
    "df_minority_upsampled = resample(df_minority, replace=True,     # sample with replacement\n",
    "                                 n_samples=2103,    # to match majority class\n",
    "                                 random_state=101) # reproducible results\n",
    "df_balance = pd.concat([df_majority, df_minority_upsampled])"
   ]
  },
  {
   "cell_type": "code",
   "execution_count": 50,
   "metadata": {},
   "outputs": [
    {
     "data": {
      "text/plain": [
       "No     2132\n",
       "Yes    2103\n",
       "Name: MLApproval, dtype: int64"
      ]
     },
     "execution_count": 50,
     "metadata": {},
     "output_type": "execute_result"
    }
   ],
   "source": [
    "df_balance.MLApproval.value_counts()\n"
   ]
  },
  {
   "cell_type": "code",
   "execution_count": 51,
   "metadata": {},
   "outputs": [
    {
     "data": {
      "text/html": [
       "<div>\n",
       "<style scoped>\n",
       "    .dataframe tbody tr th:only-of-type {\n",
       "        vertical-align: middle;\n",
       "    }\n",
       "\n",
       "    .dataframe tbody tr th {\n",
       "        vertical-align: top;\n",
       "    }\n",
       "\n",
       "    .dataframe thead th {\n",
       "        text-align: right;\n",
       "    }\n",
       "</style>\n",
       "<table border=\"1\" class=\"dataframe\">\n",
       "  <thead>\n",
       "    <tr style=\"text-align: right;\">\n",
       "      <th></th>\n",
       "      <th>MLApproval</th>\n",
       "      <th>exp_0</th>\n",
       "      <th>exp_1</th>\n",
       "      <th>exp_2</th>\n",
       "      <th>exp_3</th>\n",
       "      <th>exp_4</th>\n",
       "      <th>exp_5</th>\n",
       "      <th>exp_6</th>\n",
       "      <th>exp_7</th>\n",
       "      <th>exp_8</th>\n",
       "      <th>...</th>\n",
       "      <th>totalscore_22</th>\n",
       "      <th>totalscore_23</th>\n",
       "      <th>totalscore_25</th>\n",
       "      <th>totalscore_26</th>\n",
       "      <th>totalscore_27</th>\n",
       "      <th>totalscore_28</th>\n",
       "      <th>totalscore_29</th>\n",
       "      <th>totalscore_30</th>\n",
       "      <th>totalscore_31</th>\n",
       "      <th>totalscore_32</th>\n",
       "    </tr>\n",
       "  </thead>\n",
       "  <tbody>\n",
       "    <tr>\n",
       "      <th>0</th>\n",
       "      <td>No</td>\n",
       "      <td>0</td>\n",
       "      <td>0</td>\n",
       "      <td>1</td>\n",
       "      <td>0</td>\n",
       "      <td>0</td>\n",
       "      <td>0</td>\n",
       "      <td>0</td>\n",
       "      <td>0</td>\n",
       "      <td>0</td>\n",
       "      <td>...</td>\n",
       "      <td>0</td>\n",
       "      <td>0</td>\n",
       "      <td>0</td>\n",
       "      <td>0</td>\n",
       "      <td>0</td>\n",
       "      <td>0</td>\n",
       "      <td>0</td>\n",
       "      <td>0</td>\n",
       "      <td>0</td>\n",
       "      <td>0</td>\n",
       "    </tr>\n",
       "    <tr>\n",
       "      <th>1</th>\n",
       "      <td>No</td>\n",
       "      <td>0</td>\n",
       "      <td>0</td>\n",
       "      <td>1</td>\n",
       "      <td>0</td>\n",
       "      <td>0</td>\n",
       "      <td>0</td>\n",
       "      <td>0</td>\n",
       "      <td>0</td>\n",
       "      <td>0</td>\n",
       "      <td>...</td>\n",
       "      <td>0</td>\n",
       "      <td>0</td>\n",
       "      <td>0</td>\n",
       "      <td>0</td>\n",
       "      <td>0</td>\n",
       "      <td>0</td>\n",
       "      <td>0</td>\n",
       "      <td>0</td>\n",
       "      <td>0</td>\n",
       "      <td>0</td>\n",
       "    </tr>\n",
       "    <tr>\n",
       "      <th>2</th>\n",
       "      <td>No</td>\n",
       "      <td>1</td>\n",
       "      <td>0</td>\n",
       "      <td>0</td>\n",
       "      <td>0</td>\n",
       "      <td>0</td>\n",
       "      <td>0</td>\n",
       "      <td>0</td>\n",
       "      <td>0</td>\n",
       "      <td>0</td>\n",
       "      <td>...</td>\n",
       "      <td>0</td>\n",
       "      <td>0</td>\n",
       "      <td>0</td>\n",
       "      <td>0</td>\n",
       "      <td>0</td>\n",
       "      <td>0</td>\n",
       "      <td>0</td>\n",
       "      <td>0</td>\n",
       "      <td>0</td>\n",
       "      <td>0</td>\n",
       "    </tr>\n",
       "    <tr>\n",
       "      <th>3</th>\n",
       "      <td>No</td>\n",
       "      <td>1</td>\n",
       "      <td>0</td>\n",
       "      <td>0</td>\n",
       "      <td>0</td>\n",
       "      <td>0</td>\n",
       "      <td>0</td>\n",
       "      <td>0</td>\n",
       "      <td>0</td>\n",
       "      <td>0</td>\n",
       "      <td>...</td>\n",
       "      <td>0</td>\n",
       "      <td>0</td>\n",
       "      <td>0</td>\n",
       "      <td>0</td>\n",
       "      <td>0</td>\n",
       "      <td>0</td>\n",
       "      <td>0</td>\n",
       "      <td>0</td>\n",
       "      <td>0</td>\n",
       "      <td>0</td>\n",
       "    </tr>\n",
       "    <tr>\n",
       "      <th>4</th>\n",
       "      <td>No</td>\n",
       "      <td>1</td>\n",
       "      <td>0</td>\n",
       "      <td>0</td>\n",
       "      <td>0</td>\n",
       "      <td>0</td>\n",
       "      <td>0</td>\n",
       "      <td>0</td>\n",
       "      <td>0</td>\n",
       "      <td>0</td>\n",
       "      <td>...</td>\n",
       "      <td>0</td>\n",
       "      <td>0</td>\n",
       "      <td>0</td>\n",
       "      <td>0</td>\n",
       "      <td>0</td>\n",
       "      <td>0</td>\n",
       "      <td>0</td>\n",
       "      <td>0</td>\n",
       "      <td>0</td>\n",
       "      <td>0</td>\n",
       "    </tr>\n",
       "  </tbody>\n",
       "</table>\n",
       "<p>5 rows × 53 columns</p>\n",
       "</div>"
      ],
      "text/plain": [
       "  MLApproval  exp_0  exp_1  exp_2  exp_3  exp_4  exp_5  exp_6  exp_7  exp_8  \\\n",
       "0         No      0      0      1      0      0      0      0      0      0   \n",
       "1         No      0      0      1      0      0      0      0      0      0   \n",
       "2         No      1      0      0      0      0      0      0      0      0   \n",
       "3         No      1      0      0      0      0      0      0      0      0   \n",
       "4         No      1      0      0      0      0      0      0      0      0   \n",
       "\n",
       "   ...  totalscore_22  totalscore_23  totalscore_25  totalscore_26  \\\n",
       "0  ...              0              0              0              0   \n",
       "1  ...              0              0              0              0   \n",
       "2  ...              0              0              0              0   \n",
       "3  ...              0              0              0              0   \n",
       "4  ...              0              0              0              0   \n",
       "\n",
       "   totalscore_27  totalscore_28  totalscore_29  totalscore_30  totalscore_31  \\\n",
       "0              0              0              0              0              0   \n",
       "1              0              0              0              0              0   \n",
       "2              0              0              0              0              0   \n",
       "3              0              0              0              0              0   \n",
       "4              0              0              0              0              0   \n",
       "\n",
       "   totalscore_32  \n",
       "0              0  \n",
       "1              0  \n",
       "2              0  \n",
       "3              0  \n",
       "4              0  \n",
       "\n",
       "[5 rows x 53 columns]"
      ]
     },
     "execution_count": 51,
     "metadata": {},
     "output_type": "execute_result"
    }
   ],
   "source": [
    "df_balance.head()"
   ]
  },
  {
   "cell_type": "code",
   "execution_count": 52,
   "metadata": {},
   "outputs": [],
   "source": [
    "X = df_balance[df_balance.columns[1:]]\n",
    "y = df_balance['MLApproval']"
   ]
  },
  {
   "cell_type": "code",
   "execution_count": 53,
   "metadata": {},
   "outputs": [],
   "source": [
    "X_train, X_test, y_train, y_test = train_test_split(X, y,test_size=0.3,random_state=101)"
   ]
  },
  {
   "cell_type": "code",
   "execution_count": 54,
   "metadata": {},
   "outputs": [
    {
     "data": {
      "text/plain": [
       "RandomForestClassifier(bootstrap=True, class_weight=None, criterion='entropy',\n",
       "                       max_depth=10, max_features='auto', max_leaf_nodes=None,\n",
       "                       min_impurity_decrease=0.0, min_impurity_split=None,\n",
       "                       min_samples_leaf=1, min_samples_split=2,\n",
       "                       min_weight_fraction_leaf=0.0, n_estimators=50,\n",
       "                       n_jobs=None, oob_score=False, random_state=4, verbose=0,\n",
       "                       warm_start=False)"
      ]
     },
     "execution_count": 54,
     "metadata": {},
     "output_type": "execute_result"
    }
   ],
   "source": [
    "MLApprove_Tree_final = RandomForestClassifier(criterion='entropy',max_depth=10,min_samples_leaf=1,random_state=4,n_estimators=50 )#,splitter='random')\n",
    "MLApprove_Tree_final.fit(X_train ,y_train)"
   ]
  },
  {
   "cell_type": "code",
   "execution_count": 55,
   "metadata": {},
   "outputs": [
    {
     "name": "stdout",
     "output_type": "stream",
     "text": [
      "Confusion Matrix :\n",
      "[[618  12]\n",
      " [  0 641]]\n",
      "Accuracy Score : 0.990558615263572\n",
      "Report : \n",
      "              precision    recall  f1-score   support\n",
      "\n",
      "          No       1.00      0.98      0.99       630\n",
      "         Yes       0.98      1.00      0.99       641\n",
      "\n",
      "    accuracy                           0.99      1271\n",
      "   macro avg       0.99      0.99      0.99      1271\n",
      "weighted avg       0.99      0.99      0.99      1271\n",
      "\n"
     ]
    }
   ],
   "source": [
    "y_pred = MLApprove_Tree_final.predict(X_test)\n",
    "from sklearn.metrics import confusion_matrix \n",
    "from sklearn.metrics import accuracy_score \n",
    "from sklearn.metrics import classification_report  \n",
    "results = confusion_matrix(y_test, y_pred) \n",
    "print ('Confusion Matrix :')\n",
    "print(results) \n",
    "print ('Accuracy Score :',accuracy_score(y_test, y_pred) )\n",
    "print ('Report : ')\n",
    "print (classification_report(y_test, y_pred)) "
   ]
  },
  {
   "cell_type": "code",
   "execution_count": 56,
   "metadata": {},
   "outputs": [
    {
     "data": {
      "text/plain": [
       "('No', array([0.97148964, 0.02851036]))"
      ]
     },
     "execution_count": 56,
     "metadata": {},
     "output_type": "execute_result"
    }
   ],
   "source": [
    "MLApprove_Tree_final.predict(testdummy[testdummy.columns[1:]])[-1],MLApprove_Tree_final.predict_proba(testdummy[testdummy.columns[1:]])[-1]"
   ]
  }
 ],
 "metadata": {
  "kernelspec": {
   "display_name": "Python 3",
   "language": "python",
   "name": "python3"
  },
  "language_info": {
   "codemirror_mode": {
    "name": "ipython",
    "version": 3
   },
   "file_extension": ".py",
   "mimetype": "text/x-python",
   "name": "python",
   "nbconvert_exporter": "python",
   "pygments_lexer": "ipython3",
   "version": "3.7.2"
  }
 },
 "nbformat": 4,
 "nbformat_minor": 2
}
